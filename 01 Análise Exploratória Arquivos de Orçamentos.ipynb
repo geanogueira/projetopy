{
 "cells": [
  {
   "cell_type": "markdown",
   "metadata": {},
   "source": [
    "## Importação das Bibliotecas"
   ]
  },
  {
   "cell_type": "code",
   "execution_count": 2,
   "metadata": {},
   "outputs": [],
   "source": [
    "import os\n",
    "import pandas as pd\n",
    "import re"
   ]
  },
  {
   "cell_type": "markdown",
   "metadata": {},
   "source": [
    "## Definicação de variáveis"
   ]
  },
  {
   "cell_type": "markdown",
   "metadata": {},
   "source": [
    "Define as variáveis relacionada ao arquivo excel de orçamentação"
   ]
  },
  {
   "cell_type": "code",
   "execution_count": 3,
   "metadata": {},
   "outputs": [],
   "source": [
    "pasta_orcamentos = r'\\pasta_orcamentos'\n",
    "padrao_nome_arq = r'Orçamento-\\d+'\n",
    "\n",
    "#Relativas à informação do cliente e data de orçamentação\n",
    "lin_min_cd = 0\n",
    "lin_max_cd = 4\n",
    "range_cd = 'A:D'\n",
    "lin_final_cd = lin_max_cd - lin_min_cd\n",
    "\n",
    "#Relativas à tabela contendo os dados de precificação\n",
    "lin_min_tb = 3\n",
    "lin_max_tb = 50\n",
    "range_tb = 'A:F'\n",
    "lin_final_tb = lin_max_tb - lin_min_tb\n",
    "\n",
    "parametro_item_orc = len('margem de contribuição')"
   ]
  },
  {
   "cell_type": "markdown",
   "metadata": {},
   "source": [
    "## Declara as estruturas de dados"
   ]
  },
  {
   "cell_type": "code",
   "execution_count": 4,
   "metadata": {},
   "outputs": [],
   "source": [
    "lista_arquivos = []\n",
    "lista_abas = []\n",
    "primeiros_registros = {}\n",
    "ultimos_registros = {}\n",
    "p_colunas_inf_orc = []\n",
    "p_registros_inf_orc = []\n",
    "p_colunas_tab_dados = []\n",
    "p_registros_tab_dados = []\n",
    "u_registros_inf_orc = []\n",
    "u_registros_tab_dados = []\n",
    "lista_itens_geral = []"
   ]
  },
  {
   "cell_type": "markdown",
   "metadata": {},
   "source": [
    "## Execução da pesquisa"
   ]
  },
  {
   "cell_type": "markdown",
   "metadata": {},
   "source": [
    "Pesquisa todos os arquivos presentes na pasta de orçamentação e os relaciona numa lista"
   ]
  },
  {
   "cell_type": "code",
   "execution_count": 5,
   "metadata": {},
   "outputs": [],
   "source": [
    "for arq in os.listdir(pasta_orcamentos):\n",
    "    if re.match(padrao_nome_arq, arq):\n",
    "        lista_arquivos.append(arq)"
   ]
  },
  {
   "cell_type": "markdown",
   "metadata": {},
   "source": [
    "Em cada arquivo cria dois range de dados: um para a informação de cliente e data e outros para a tabela contendo os dados de precificação."
   ]
  },
  {
   "cell_type": "code",
   "execution_count": 6,
   "metadata": {},
   "outputs": [
    {
     "name": "stdout",
     "output_type": "stream",
     "text": [
      "Cliente/Data -> Range de A0:D4\n",
      "Tabela de dados -> Range de A3:F50\n"
     ]
    }
   ],
   "source": [
    "print(f'Cliente/Data -> Range de {range_cd[0] + str(lin_min_cd)}:{range_cd[2] + str(lin_max_cd)}')\n",
    "print(f'Tabela de dados -> Range de {range_tb[0] + str(lin_min_tb)}:{range_tb[2] + str(lin_max_tb)}')"
   ]
  },
  {
   "cell_type": "markdown",
   "metadata": {},
   "source": [
    "Dentro desse range, busca o primeiro valor não nulo, bem como o último valor não nulo dentro da mesma coluna"
   ]
  },
  {
   "cell_type": "code",
   "execution_count": 7,
   "metadata": {},
   "outputs": [],
   "source": [
    "for arq in lista_arquivos:\n",
    "    caminho_arquivo = pasta_orcamentos + '\\\\' + arq\n",
    "\n",
    "    #Primeiramente, cria um objeto dataframe para cada arquivo excel\n",
    "    with pd.ExcelFile(caminho_arquivo) as excel:\n",
    "        #Verifica qual é a última aba do arquivo (versão válida / atual)\n",
    "        aba_v_valida = max(excel.sheet_names)\n",
    "\n",
    "        #Nesta últma aba, primeiramente, monta um dataframe baseado no range de dados \"Cliente/Data\" acima mencionado\n",
    "        #No qual se espera que esteja a informação do cliente e da data de orçamentação\n",
    "        df_inf_orc = pd.read_excel(caminho_arquivo, sheet_name = aba_v_valida, usecols = range_cd, skiprows = lin_min_cd, nrows = lin_final_cd, header = None)\n",
    "\n",
    "        #Itera cada coluna no dataframe criado para procurar o primeiro e o último registro não nulo \n",
    "        for col in df_inf_orc.columns:\n",
    "            idx_primeiro_registro = df_inf_orc[col].first_valid_index()\n",
    "            \n",
    "            #Uma vez encontrados os registros, guarda-os em dicionários\n",
    "            if idx_primeiro_registro is not None:\n",
    "                vlr_primeiro_registro = df_inf_orc[col][idx_primeiro_registro]\n",
    "                primeiros_registros[arq] = {'inf_cliente_data': {'nome_coluna': str(col), 'valor': vlr_primeiro_registro}}\n",
    "\n",
    "                idx_ultimo_registro = df_inf_orc[col].last_valid_index()\n",
    "                vlr_ultimo_registro = df_inf_orc[col][idx_ultimo_registro]\n",
    "                ultimos_registros[arq] = {'inf_cliente_data': vlr_ultimo_registro}\n",
    "                \n",
    "                break\n",
    "\n",
    "        #Monta um dataframe baseado no range de dados supracitado no qual se espera que esteja a tabela com os dados de precificação\n",
    "        df_tab_dados = pd.read_excel(caminho_arquivo, sheet_name = aba_v_valida, usecols = range_tb, skiprows = lin_min_tb, nrows = lin_final_tb, header = None)\n",
    "\n",
    "        #Itera cada coluna no dataframe criado para procurar o primeiro e o último registro não nulo \n",
    "        for col in df_tab_dados.columns:\n",
    "            idx_primeiro_registro = df_tab_dados[col].first_valid_index()\n",
    "            \n",
    "            #Uma vez encontrados os registros, guarda-os em dicionários\n",
    "            if idx_primeiro_registro is not None:\n",
    "                vlr_primeiro_registro = df_tab_dados[col][idx_primeiro_registro]\n",
    "                primeiros_registros[arq].update({'tabela_dados': {'nome_coluna': str(col), 'valor': vlr_primeiro_registro}})\n",
    "\n",
    "                idx_ultimo_registro = df_tab_dados[col].last_valid_index()\n",
    "                vlr_ultimo_registro = df_tab_dados[col][idx_ultimo_registro]\n",
    "                ultimos_registros[arq].update({'tabela_dados': vlr_ultimo_registro})\n",
    "\n",
    "                break\n",
    "\n",
    "    lista_itens_arq = [v for v in df_tab_dados.loc[df_tab_dados[col].notna(), col].to_list() if len(v) < parametro_item_orc]\n",
    "\n",
    "    for i in lista_itens_arq:\n",
    "        if i not in lista_itens_geral:\n",
    "            lista_itens_geral.append(i)"
   ]
  },
  {
   "cell_type": "markdown",
   "metadata": {},
   "source": [
    "## Impressão de resultados"
   ]
  },
  {
   "cell_type": "markdown",
   "metadata": {},
   "source": [
    "Valores encontrados como primeiros e últimos registros"
   ]
  },
  {
   "cell_type": "code",
   "execution_count": 8,
   "metadata": {},
   "outputs": [],
   "source": [
    "for v in primeiros_registros.values():\n",
    "\n",
    "    nome_col_inf_orc = v['inf_cliente_data']['nome_coluna']\n",
    "    p_vlr_reg_inf_orc = v['inf_cliente_data']['valor']\n",
    "\n",
    "    if nome_col_inf_orc not in p_colunas_inf_orc:\n",
    "        p_colunas_inf_orc.append(nome_col_inf_orc)\n",
    "\n",
    "    if p_vlr_reg_inf_orc not in p_registros_inf_orc:\n",
    "        p_registros_inf_orc.append(p_vlr_reg_inf_orc)\n",
    "\n",
    "    nome_col_tab_dados = v['tabela_dados']['nome_coluna']\n",
    "    p_vlr_reg_tab_dados = v['tabela_dados']['valor']\n",
    "\n",
    "    if nome_col_tab_dados not in p_colunas_tab_dados:\n",
    "        p_colunas_tab_dados.append(nome_col_tab_dados)\n",
    "\n",
    "    if p_vlr_reg_tab_dados not in p_registros_tab_dados:\n",
    "        p_registros_tab_dados.append(p_vlr_reg_tab_dados)\n",
    "    \n",
    "for v in ultimos_registros.values():\n",
    "    u_vlr_reg_inf_orc = v['inf_cliente_data']\n",
    "\n",
    "    if u_vlr_reg_inf_orc not in u_registros_inf_orc:\n",
    "        u_registros_inf_orc.append(u_vlr_reg_inf_orc)\n",
    "\n",
    "    u_vlr_reg_tab_dados = v['tabela_dados']\n",
    "\n",
    "    if u_vlr_reg_tab_dados not in u_registros_tab_dados:\n",
    "        u_registros_tab_dados.append(u_vlr_reg_tab_dados)"
   ]
  },
  {
   "cell_type": "code",
   "execution_count": 9,
   "metadata": {},
   "outputs": [
    {
     "name": "stdout",
     "output_type": "stream",
     "text": [
      "\u001b[1;37;40mColunas onde são encontrados os primeiros registros de cliente e data dos orçamentos:\n",
      "\n",
      "\u001b[1;32;40m0\n",
      "\u001b[1;32;40m1\n",
      "\u001b[1;32;40m3\n",
      "\u001b[1;32;40m2\n",
      "\n",
      "\u001b[1;37;40mConteúdo dos primeiros registros:\n",
      "\n",
      "\u001b[1;32;40mCódigo Cliente:\n",
      "\u001b[1;32;40mCliente:\n",
      "\u001b[1;32;40mCód. Cliente:\n",
      "\u001b[1;32;40m*Crédito aprovado / Orçamento válido\n",
      "\u001b[1;32;40m*Venda futura\n",
      "\n",
      "\u001b[1;37;40mConteúdo dos últimos registros:\n",
      "\n",
      "\u001b[1;32;40mData:\n",
      "\u001b[1;32;40mDt Orç\n",
      "\u001b[1;32;40m*Contato iniciado em 10/02\n",
      "\u001b[1;32;40m*Aprovado pela diretoria\n",
      "\u001b[1;32;40mPercentual de comissão mantido, cfe orientação da diretoria\n",
      "\u001b[1;32;40mAprovado pelo financeiro\n",
      "\u001b[1;32;40mDesconto aprovado pela diretoria\n",
      "\u001b[1;32;40mObs.: percentual de comissão mantido, cfe acordado com o gerente comercial\n",
      "\n",
      "\u001b[1;37;40m-------------------------------------------------------------\n",
      "\n",
      "\u001b[1;37;40mColunas onde são encontrados os primeiros registros de variáveis de precificação:\n",
      "\n",
      "\u001b[1;32;40m0\n",
      "\u001b[1;32;40m1\n",
      "\u001b[1;32;40m2\n",
      "\n",
      "\u001b[1;37;40mConteúdo dos primeiros registros:\n",
      "\n",
      "\u001b[1;32;40mPreço Bruto\n",
      "\u001b[1;32;40mPeço Final\n",
      "\u001b[1;32;40m*Venda não aprovada pela Diretoria\n",
      "\u001b[1;32;40m*Benefício Fiscal\n",
      "\u001b[1;32;40mReceita Bruta\n",
      "\u001b[1;32;40m*Aprovado pela Diretoria\n",
      "\u001b[1;32;40mPreço Final\n",
      "\u001b[1;32;40mObs.: percentual de comissão mantido, cfe acordado com o gerente comercial\n",
      "\n",
      "\u001b[1;37;40mConteúdo dos últimos registros:\n",
      "\n",
      "\u001b[1;32;40mEbitda\n",
      "\u001b[1;32;40mLucro\n",
      "\u001b[1;32;40m*Ebitda muito abaixo do limite estabelecido\n",
      "\u001b[1;32;40m*Aprovado pelo setor jurídico\n",
      "\u001b[1;32;40m*Aprovado pela Diretoria\n",
      "\u001b[1;32;40m*Pagamento à vista\n",
      "\u001b[1;32;40m*Aprovado com restrições\n",
      "\u001b[1;32;40m*Diminuir o custo de frete\n"
     ]
    }
   ],
   "source": [
    "print('\\033[1;37;40mColunas onde são encontrados os primeiros registros de cliente e data dos orçamentos:\\n')\n",
    "\n",
    "for i in p_colunas_inf_orc:\n",
    "    print(f'\\033[1;32;40m{i}')\n",
    "\n",
    "print('\\n\\033[1;37;40mConteúdo dos primeiros registros:\\n')\n",
    "\n",
    "for i in p_registros_inf_orc:\n",
    "    print(f'\\033[1;32;40m{i}')\n",
    "\n",
    "print('\\n\\033[1;37;40mConteúdo dos últimos registros:\\n')\n",
    "\n",
    "for i in u_registros_inf_orc:\n",
    "    print(f'\\033[1;32;40m{i}')\n",
    "\n",
    "print('\\n\\033[1;37;40m-------------------------------------------------------------\\n')\n",
    "    \n",
    "print('\\033[1;37;40mColunas onde são encontrados os primeiros registros de variáveis de precificação:\\n')\n",
    "\n",
    "for i in p_colunas_tab_dados:\n",
    "    print(f'\\033[1;32;40m{i}')\n",
    "\n",
    "print('\\n\\033[1;37;40mConteúdo dos primeiros registros:\\n')\n",
    "\n",
    "for i in p_registros_tab_dados:\n",
    "    print(f'\\033[1;32;40m{i}')  \n",
    "\n",
    "print('\\n\\033[1;37;40mConteúdo dos últimos registros:\\n')\n",
    "\n",
    "for i in u_registros_tab_dados:\n",
    "    print(f'\\033[1;32;40m{i}')"
   ]
  },
  {
   "cell_type": "markdown",
   "metadata": {},
   "source": [
    "Texto dos itens encontrados nos arquivos de orçamentação"
   ]
  },
  {
   "cell_type": "code",
   "execution_count": 10,
   "metadata": {},
   "outputs": [
    {
     "name": "stdout",
     "output_type": "stream",
     "text": [
      "\u001b[1;37;40mLista de itens encotrados como variáveis de precificação:\n",
      "\n",
      "\u001b[1;32;40m*Benefício Fiscal\n",
      "\u001b[1;32;40m*Pagamento à vista\n",
      "\u001b[1;32;40mAcompanhamento\n",
      "\u001b[1;32;40mAssistência Técnica\n",
      "\u001b[1;32;40mAvaliação Técnica\n",
      "\u001b[1;32;40mCarta Fiança\n",
      "\u001b[1;32;40mComissão\n",
      "\u001b[1;32;40mCusto Financeiro\n",
      "\u001b[1;32;40mCustos Fixos\n",
      "\u001b[1;32;40mEbitda\n",
      "\u001b[1;32;40mFrete\n",
      "\u001b[1;32;40mImpostos\n",
      "\u001b[1;32;40mLucro\n",
      "\u001b[1;32;40mMC\n",
      "\u001b[1;32;40mMargem\n",
      "\u001b[1;32;40mMateriais\n",
      "\u001b[1;32;40mMg Contribuição\n",
      "\u001b[1;32;40mOutros Custos\n",
      "\u001b[1;32;40mPeço Final\n",
      "\u001b[1;32;40mPreço Bruto\n",
      "\u001b[1;32;40mPreço Final\n",
      "\u001b[1;32;40mPreço Líquido\n",
      "\u001b[1;32;40mReceita Bruta\n",
      "\u001b[1;32;40mReceita Líquida\n",
      "\u001b[1;32;40mSeguro\n",
      "\u001b[1;32;40mServiços\n"
     ]
    }
   ],
   "source": [
    "lista_itens_geral.sort()\n",
    "\n",
    "print('\\033[1;37;40mLista de itens encotrados como variáveis de precificação:\\n')\n",
    "\n",
    "for i in lista_itens_geral:\n",
    "    print(f'\\033[1;32;40m{i}')"
   ]
  },
  {
   "cell_type": "markdown",
   "metadata": {},
   "source": [
    "Arquivos que destoam do padrão construtivo"
   ]
  },
  {
   "cell_type": "code",
   "execution_count": 11,
   "metadata": {},
   "outputs": [],
   "source": [
    "inic_padrao_inf_orc = [\n",
    "    'Código Cliente:',\n",
    "    'Cliente:',\n",
    "    'Cód. Cliente:'\n",
    "]\n",
    "\n",
    "arquivos_sem_inic_padrao_inf = [k for k, v in primeiros_registros.items() if v['inf_cliente_data']['valor'] not in inic_padrao_inf_orc]\n",
    "\n",
    "final_padrao_inf_orc = [\n",
    "    'Data:',\n",
    "    'Dt Orç'\n",
    "]\n",
    "\n",
    "arquivos_sem_final_padrao_inf = [k for k, v in ultimos_registros.items() if v['inf_cliente_data'] not in final_padrao_inf_orc]\n",
    "\n",
    "inic_padrao_tab_dados = [\n",
    "    'Preço Bruto',\n",
    "    'Peço Final',\n",
    "    'Receita Bruta',\n",
    "    'Preço Final'\n",
    "]\n",
    "\n",
    "arquivos_sem_inic_padrao_tb = [k for k, v in primeiros_registros.items() if v['tabela_dados']['valor'] not in inic_padrao_tab_dados]\n",
    "\n",
    "final_padrao_tab_dados = [\n",
    "    'Ebitda', \n",
    "    'Lucro'\n",
    "]\n",
    "\n",
    "arquivos_sem_final_padrao_tb = [k for k, v in ultimos_registros.items() if v['tabela_dados'] not in final_padrao_tab_dados]"
   ]
  },
  {
   "cell_type": "code",
   "execution_count": 12,
   "metadata": {},
   "outputs": [
    {
     "name": "stdout",
     "output_type": "stream",
     "text": [
      "\u001b[1;31;40mInformações de cliente e data do orçamento:\n",
      "\n",
      "\u001b[1;37;40mArquivos onde o primeiro registro difere dos registros padrões de início:\n",
      "\n",
      "\u001b[1;32;40mOrçamento-2097 (Consolidado).xlsx\n",
      "\u001b[1;32;40mOrçamento-65 (Consolidado).xlsx\n",
      "\u001b[1;37;40mArquivos onde o último registro difere dos registros padrões de término:\n",
      "\n",
      "\u001b[1;32;40mOrçamento-2078 (Consolidado).xlsx\n",
      "\u001b[1;32;40mOrçamento-381 (Consolidado).xlsx\n",
      "\u001b[1;32;40mOrçamento-5432 (Consolidado).xlsx\n",
      "\u001b[1;32;40mOrçamento-5567 (Consolidado).xlsx\n",
      "\u001b[1;32;40mOrçamento-5620 (Consolidado).xlsx\n",
      "\u001b[1;32;40mOrçamento-5985 (Consolidado).xlsx\n",
      "\n",
      "--------------------------------------------------------------------------\n",
      "\n",
      "\u001b[1;31;40mVariáveis de precificação:\n",
      "\n",
      "\u001b[1;37;40mArquivos onde o primeiro registro difere dos registros padrões de início:\n",
      "\n",
      "\u001b[1;32;40mOrçamento-1454.xlsx\n",
      "\u001b[1;32;40mOrçamento-25 (Consolidado).xlsx\n",
      "\u001b[1;32;40mOrçamento-2922 (Consolidado).xlsx\n",
      "\u001b[1;32;40mOrçamento-2952 (Consolidado).xlsx\n",
      "\u001b[1;32;40mOrçamento-2966 (Consolidado).xlsx\n",
      "\u001b[1;32;40mOrçamento-5985 (Consolidado).xlsx\n",
      "\u001b[1;37;40mArquivos onde o último registro difere dos registros padrões de término:\n",
      "\n",
      "\u001b[1;32;40mOrçamento-1454.xlsx\n",
      "\u001b[1;32;40mOrçamento-25 (Consolidado).xlsx\n",
      "\u001b[1;32;40mOrçamento-2922 (Consolidado).xlsx\n",
      "\u001b[1;32;40mOrçamento-2952 (Consolidado).xlsx\n",
      "\u001b[1;32;40mOrçamento-2966 (Consolidado).xlsx\n",
      "\u001b[1;32;40mOrçamento-862.xlsx\n",
      "\u001b[1;32;40mOrçamento-870 (Consolidado).xlsx\n"
     ]
    }
   ],
   "source": [
    "\n",
    "print('\\033[1;31;40mInformações de cliente e data do orçamento:\\n')\n",
    "\n",
    "print('\\033[1;37;40mArquivos onde o primeiro registro difere dos registros padrões de início:\\n')\n",
    "      \n",
    "for i in arquivos_sem_inic_padrao_inf:\n",
    "    print(f'\\033[1;32;40m{i}')\n",
    "\n",
    "print('\\033[1;37;40mArquivos onde o último registro difere dos registros padrões de término:\\n')\n",
    "\n",
    "for i in arquivos_sem_final_padrao_inf:\n",
    "    print(f'\\033[1;32;40m{i}')\n",
    "\n",
    "print('\\n--------------------------------------------------------------------------\\n')\n",
    "\n",
    "print('\\033[1;31;40mVariáveis de precificação:\\n')\n",
    "\n",
    "print('\\033[1;37;40mArquivos onde o primeiro registro difere dos registros padrões de início:\\n')\n",
    "      \n",
    "for i in arquivos_sem_inic_padrao_tb:\n",
    "    print(f'\\033[1;32;40m{i}')\n",
    "\n",
    "print('\\033[1;37;40mArquivos onde o último registro difere dos registros padrões de término:\\n')\n",
    "\n",
    "for i in arquivos_sem_final_padrao_tb:\n",
    "    print(f'\\033[1;32;40m{i}')"
   ]
  },
  {
   "cell_type": "code",
   "execution_count": null,
   "metadata": {},
   "outputs": [],
   "source": []
  }
 ],
 "metadata": {
  "kernelspec": {
   "display_name": "base",
   "language": "python",
   "name": "python3"
  },
  "language_info": {
   "codemirror_mode": {
    "name": "ipython",
    "version": 3
   },
   "file_extension": ".py",
   "mimetype": "text/x-python",
   "name": "python",
   "nbconvert_exporter": "python",
   "pygments_lexer": "ipython3",
   "version": "3.11.7"
  }
 },
 "nbformat": 4,
 "nbformat_minor": 2
}
