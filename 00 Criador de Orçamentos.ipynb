{
 "cells": [
  {
   "cell_type": "markdown",
   "metadata": {},
   "source": [
    "## Importação das Bibliotecas "
   ]
  },
  {
   "cell_type": "code",
   "execution_count": 1,
   "metadata": {},
   "outputs": [],
   "source": [
    "import xlwings as xw\n",
    "import datetime as dt\n",
    "import os\n",
    "import shutil as st\n",
    "import random as rd\n",
    "import time as tm\n",
    "import re\n",
    "import pandas as pd\n",
    "import sys"
   ]
  },
  {
   "cell_type": "markdown",
   "metadata": {},
   "source": [
    "## Definicação de variáveis"
   ]
  },
  {
   "cell_type": "markdown",
   "metadata": {},
   "source": [
    "Define as variáveis relacionada ao arquivo excel de orçamentação"
   ]
  },
  {
   "cell_type": "code",
   "execution_count": 2,
   "metadata": {},
   "outputs": [],
   "source": [
    "arquivo_orc = r'\\arquivo_orc'\n",
    "\n",
    "#Se certifica da quantidade de versões presentes no arquivo original\n",
    "arquivo_original = xw.App(visible = False).books.open(arquivo_orc)\n",
    "qtd_versoes_arq_original = len(arquivo_original.sheets)\n",
    "arquivo_original.close()\n",
    "\n",
    "cel_cliente = 'B1'\n",
    "cel_data = 'B2'\n",
    "cel_preco = 'D5'\n",
    "cel_impostos = 'D6'\n",
    "cel_materiais = 'D8'\n",
    "cel_servicos = 'D9'\n",
    "cel_custo_fin = 'D11'\n",
    "cel_comissao = 'D12'"
   ]
  },
  {
   "cell_type": "markdown",
   "metadata": {},
   "source": [
    "Verifica qual é o próximo número de orçamento a ser utilizado"
   ]
  },
  {
   "cell_type": "code",
   "execution_count": 7,
   "metadata": {},
   "outputs": [],
   "source": [
    "#Cria uma variável contendo o diretório onde os arquivos de orçamentação estão alocados  \n",
    "pasta_arquivo_orc = os.path.dirname(arquivo_orc)\n",
    "\n",
    "#Padrão regex de numeração dos arquivos\n",
    "padrao_num = r'-(\\d+)'\n",
    "\n",
    "num_orcs_gerados = []\n",
    "\n",
    "for arq in os.listdir(pasta_arquivo_orc):\n",
    "\n",
    "    if arq.startswith('Orçamento') & arq.endswith('.xlsx'):\n",
    "        #Extrai o número de orçamento dos arquivos e o joga numa lista  \n",
    "        num_orcs_gerados.append(int(re.search(padrao_num, arq).group(1)))\n",
    "        \n",
    "proximo_num_orc = max(num_orcs_gerados) + 1"
   ]
  },
  {
   "cell_type": "markdown",
   "metadata": {},
   "source": [
    "Define as demais variáveis"
   ]
  },
  {
   "cell_type": "code",
   "execution_count": 4,
   "metadata": {},
   "outputs": [],
   "source": [
    "qtd_orcamentos = 10\n",
    "\n",
    "mult_preco_min = 10000\n",
    "mult_preco_max = 500000\n",
    "\n",
    "opcoes_carga_tributaria = list(range(1, 13))\n",
    "\n",
    "fx_custo_material_min = 30\n",
    "fx_custo_material_max = 40\n",
    "\n",
    "fx_custo_servicos_min = 10\n",
    "fx_custo_servicos_max = 20\n",
    "\n",
    "opcoes_perc_comissao = list(range(1, 4))\n",
    "\n",
    "opcoes_perc_custo_fin = list(range(1, 4))\n",
    "\n",
    "opcoes_clientes = list(range(1, 41))\n",
    "\n",
    "opcoes_qtd_versoes_exc = list(range(1, 6))\n",
    "\n",
    "opcoes_status_orc = list(range(1, 4))\n",
    "\n",
    "data_min = dt.datetime(2023, 1, 2)\n",
    "data_max = dt.datetime(2023, 12, 5)\n",
    "\n",
    "nome_arq_data = 'Arquivo Datas.xlsx'\n",
    "aba_data = 'Datas'\n",
    "aba_qtd_orcs = 'Qtd Orcs'"
   ]
  },
  {
   "cell_type": "markdown",
   "metadata": {},
   "source": [
    "## Criação do Range de Datas"
   ]
  },
  {
   "cell_type": "markdown",
   "metadata": {},
   "source": [
    "Cria as estruturas de dados"
   ]
  },
  {
   "cell_type": "code",
   "execution_count": 5,
   "metadata": {},
   "outputs": [],
   "source": [
    "range_datas = []\n",
    "cont_orc_dia = {}"
   ]
  },
  {
   "cell_type": "markdown",
   "metadata": {},
   "source": [
    "Executa a criação do Range"
   ]
  },
  {
   "cell_type": "code",
   "execution_count": 6,
   "metadata": {},
   "outputs": [],
   "source": [
    "caminho_arq_datas = pasta_arquivo_orc + '\\\\' + nome_arq_data\n",
    "\n",
    "#Verifica se o arquivo de Datas x Qtd Orçs existe...\n",
    "if os.path.exists(caminho_arq_datas) == True:\n",
    "    arquivo_datas_orcs = pd.read_excel(caminho_arq_datas, usecols = [aba_data, aba_qtd_orcs])\n",
    "    cont_orc_dia = arquivo_datas_orcs.to_dict(orient = 'records')\n",
    "    cont_orc_dia = {item[aba_data]: item[aba_qtd_orcs] for item in cont_orc_dia}\n",
    "\n",
    "    for data in cont_orc_dia.keys():\n",
    "        range_datas.append(data)\n",
    "\n",
    "#Caso contrário, cria um dicionário para tal informação\n",
    "else:\n",
    "    data_corrente = data_min\n",
    "\n",
    "    #Cria um range de datas para escolha, bem como do dicionário \"cont_orc_dia\"\n",
    "    #O dicionário \"cont_orc_dia\" guardará a informação de quantos orçamentos já foram criados em cada dia\n",
    "    while data_corrente <= data_max:\n",
    "        data_formatada = data_corrente.strftime('%d-%m-%Y')\n",
    "        range_datas.append(data_formatada)\n",
    "        cont_orc_dia[data_formatada] = 0\n",
    "        data_corrente += dt.timedelta(days = 1)"
   ]
  },
  {
   "cell_type": "markdown",
   "metadata": {},
   "source": [
    "## Criação e configuração dos novos arquivos Excel de orçamentação"
   ]
  },
  {
   "cell_type": "code",
   "execution_count": 11,
   "metadata": {},
   "outputs": [],
   "source": [
    "for num_orc in range(proximo_num_orc, qtd_orcamentos + 1):\n",
    "    \n",
    "    #Define os valores das variáveis de precificação\n",
    "    mult_preco = rd.randrange(mult_preco_min, mult_preco_max, 100) \n",
    "    cod_carga_tributaria = rd.choice(opcoes_carga_tributaria)\n",
    "    fx_custo_material = rd.randrange(fx_custo_material_min, fx_custo_material_max) / 100\n",
    "    fx_custo_servicos = rd.randrange(fx_custo_servicos_min, fx_custo_servicos_max) / 100\n",
    "    cod_perc_comissao = rd.choice(opcoes_perc_comissao)\n",
    "    cod_perc_custo_fin = rd.choice(opcoes_perc_custo_fin)\n",
    "    cod_cliente = rd.choice(opcoes_clientes)\n",
    "\n",
    "    #Define qual será o status do orçamento (apenas se status_orc for igual a 3 o orçamento em questão será consolidado)\n",
    "    status_orc = rd.choice(opcoes_status_orc)\n",
    "    \n",
    "    #Define a data para o novo orçamento\n",
    "    #Pela regra de negócios estabelecida, 20 é o limite máximo de orçamentos para um único dia\n",
    "    qtd_orcs = 99\n",
    "    #Se a quantidade de orçamentos para o dia escolhido aleatoriamente for superior a 20, escolhe-se uma nova data \n",
    "    while qtd_orcs > 20:\n",
    "        data_orc = rd.choice(range_datas)\n",
    "        qtd_orcs = cont_orc_dia[data_orc] + 1\n",
    "\n",
    "    cont_orc_dia[data_orc] += 1\n",
    "\n",
    "    #Cria o nome do novo arquivo de orçamentação\n",
    "    if status_orc == 3:\n",
    "        sufixo = ' (Consolidado).xlsx'\n",
    "    else:\n",
    "        sufixo = '.xlsx'\n",
    "\n",
    "    nome_novo_orc = f'Orçamento-{num_orc}{sufixo}'\n",
    "\n",
    "    caminho_novo_orc = pasta_arquivo_orc + '\\\\' + nome_novo_orc\n",
    "\n",
    "    #Excuta a cópia do arquivo principal para o novo arquivo\n",
    "    st.copy(arquivo_orc, caminho_novo_orc)\n",
    "\n",
    "    tm.sleep(2)\n",
    "    #Cria um dicionário contendo quais são as células das variáveis de precificação (dentro do arquivo excel), bem como por quais valores elas devem ser preenchidas\n",
    "    variaveis_arquivo = {}\n",
    "\n",
    "    variaveis_arquivo = {\n",
    "        cel_cliente: cod_cliente, \n",
    "        cel_data: data_orc,\n",
    "        cel_preco: mult_preco, \n",
    "        cel_impostos: cod_carga_tributaria, \n",
    "        cel_materiais: fx_custo_material, \n",
    "        cel_servicos: fx_custo_servicos, \n",
    "        cel_custo_fin: cod_perc_custo_fin, \n",
    "        cel_comissao: cod_perc_comissao\n",
    "    }\n",
    "\n",
    "    #Acessa o novo arquivo criado\n",
    "    with xw.App(visible = False).books.open(caminho_novo_orc) as arq:\n",
    "        abas = arq.sheets\n",
    "        aba_orc = abas['V1']\n",
    "        \n",
    "        try:\n",
    "            #Altera o valor das variáveis de precificão\n",
    "            for k, v in variaveis_arquivo.items():\n",
    "                aba_orc[k].value = v\n",
    "        \n",
    "        except Exception as e:\n",
    "            print(f'Houve erro na configuração de preços (Variável: {k} / Valor: {v}). Erro reportado: \"{e}\".')\n",
    "\n",
    "        else:\n",
    "            tm.sleep(1)\n",
    "            #Define a quantidade de versões que permanecerá no novo arquivo\n",
    "            qtd_versoes = len(abas)\n",
    "\n",
    "            if qtd_versoes != qtd_versoes_arq_original:\n",
    "                raise KeyError(f'A quantidade de abas no novo arquivo difere do original (O novo arquivo possui {qtd_versoes}).')\n",
    "                sys.exit()\n",
    "\n",
    "            qtd_versoes_excluir = rd.choice(opcoes_qtd_versoes_exc)\n",
    "            versoes_restantes = qtd_versoes - qtd_versoes_excluir\n",
    "            \n",
    "            try:\n",
    "                #Realiza a exclusão de abas\n",
    "                for i in range(qtd_versoes, versoes_restantes, -1):\n",
    "                    versao = f'V{i}'\n",
    "                    aba_deletar = abas[versao]\n",
    "                    aba_deletar.delete()\n",
    "\n",
    "            except Exception as e:\n",
    "                print(f'Houve erro no processo de exclusão da versão {versao} do orçamento. Erro reportado: \"{e}\".')  \n",
    "\n",
    "            else:          \n",
    "                arq.save()\n",
    "\n",
    "    tm.sleep(1)\n",
    "\n",
    "    #Por resguardo, força o fechamento das instâncias em aberto do Excel\n",
    "    xw.apps.active.quit()\n",
    "    tm.sleep(1)"
   ]
  },
  {
   "cell_type": "markdown",
   "metadata": {},
   "source": [
    "## Salvamento do arquivos de Datas x Orçamentos Criados "
   ]
  },
  {
   "cell_type": "code",
   "execution_count": 12,
   "metadata": {},
   "outputs": [],
   "source": [
    "df_datas_qtd_orcs = pd.DataFrame(list(cont_orc_dia.items()), columns = [aba_data, aba_qtd_orcs])\n",
    "\n",
    "df_datas_qtd_orcs.to_excel(caminho_arq_datas, sheet_name = 'Dados', index = None)"
   ]
  }
 ],
 "metadata": {
  "kernelspec": {
   "display_name": "base",
   "language": "python",
   "name": "python3"
  },
  "language_info": {
   "codemirror_mode": {
    "name": "ipython",
    "version": 3
   },
   "file_extension": ".py",
   "mimetype": "text/x-python",
   "name": "python",
   "nbconvert_exporter": "python",
   "pygments_lexer": "ipython3",
   "version": "3.11.7"
  }
 },
 "nbformat": 4,
 "nbformat_minor": 2
}
